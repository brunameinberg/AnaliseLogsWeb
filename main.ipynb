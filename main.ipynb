{
 "cells": [
  {
   "cell_type": "markdown",
   "metadata": {},
   "source": [
    "# Avaliação Final Tecnologias Hacker - Análise de Logs Web"
   ]
  },
  {
   "cell_type": "markdown",
   "metadata": {},
   "source": [
    "## Objetivo\n",
    "O objetivo desse projeto é construir um código capaz de analisar se, de acordo com os logs, pode haver uma conexão suspeita no seu servidor web. Para isso, levamos em consideração que os logs disponibilizados estão em formato combined."
   ]
  },
  {
   "cell_type": "code",
   "execution_count": 23,
   "metadata": {},
   "outputs": [],
   "source": [
    "#bibliotecas\n",
    "import re"
   ]
  },
  {
   "cell_type": "markdown",
   "metadata": {},
   "source": [
    "## Pré Processamento"
   ]
  },
  {
   "cell_type": "code",
   "execution_count": 1,
   "metadata": {},
   "outputs": [],
   "source": [
    "#Função que le o arquivo e retorna uma lista com as linhas do arquivo\n",
    "def ler_arquivo(nome_arquivo):\n",
    "    try:\n",
    "        with open(nome_arquivo, 'r') as arquivo:\n",
    "            return arquivo.readlines()\n",
    "    except FileNotFoundError:\n",
    "        print(\"Arquivo não encontrado\")\n",
    "        return None"
   ]
  },
  {
   "cell_type": "code",
   "execution_count": 4,
   "metadata": {},
   "outputs": [
    {
     "data": {
      "text/plain": [
       "'207.46.13.104 - - [08/Jul/2019:09:07:18 +0200] \"GET /?_m=akcie&_c=3_rocnik_memorialu_romana_cunderlika HTTP/1.1\" 302 623 \"-\" \"Mozilla/5.0 (iPhone; CPU iPhone OS 7_0 like Mac OS X) AppleWebKit/537.51.1 (KHTML, like Gecko) Version/7.0 Mobile/11A465 Safari/9537.53 (compatible; bingbot/2.0; +http://www.bing.com/bingbot.htm)\"\\n'"
      ]
     },
     "execution_count": 4,
     "metadata": {},
     "output_type": "execute_result"
    }
   ],
   "source": [
    "lista_linhas_log = ler_arquivo('logs/access.log')\n",
    "lista_linhas_log[0]"
   ]
  },
  {
   "cell_type": "code",
   "execution_count": null,
   "metadata": {},
   "outputs": [],
   "source": [
    "# Função de extração das informações\n",
    "def extrai_info_log(lista_linhas):\n",
    "    info_logs = {}\n",
    "    for i in range(len(lista_linhas)):\n",
    "        dic_log = {}\n",
    "        info = lista_linhas[i].split()\n",
    "        dic_log['ip'] = info[0]\n",
    "        dic_log['id_cliente'] = info[1]\n",
    "        dic_log['usuario'] = info[2]\n",
    "        dic_log['data'] = info[3].replace('[','')\n",
    "        dic_log['requisicao'] = info[5] + \" \" + info[6] + \" \" + info[7]\n",
    "        dic_log['status'] = info[8]\n",
    "        dic_log['bytes_resposta'] = info[9]\n",
    "        dic_log['referenciador'] = info[10]\n",
    "        dic_log['navegador'] = info[11].replace('\"','')\n",
    "\n",
    "        info_logs[i] = dic_log\n",
    "\n",
    "    return info_logs\n",
    "\n",
    "\n"
   ]
  },
  {
   "cell_type": "code",
   "execution_count": 25,
   "metadata": {},
   "outputs": [
    {
     "data": {
      "text/plain": [
       "{'ip': '207.46.13.104',\n",
       " 'id_cliente': '-',\n",
       " 'usuario': '-',\n",
       " 'data': '08/Jul/2019:09:07:18',\n",
       " 'requisicao': '\"GET /?_m=akcie&_c=3_rocnik_memorialu_romana_cunderlika HTTP/1.1\"',\n",
       " 'status': '302',\n",
       " 'bytes_resposta': '623',\n",
       " 'referenciador': '\"-\"',\n",
       " 'navegador': 'Mozilla/5.0'}"
      ]
     },
     "execution_count": 25,
     "metadata": {},
     "output_type": "execute_result"
    }
   ],
   "source": [
    "dicionariodelogs = extrai_info_log(lista_linhas_log)\n",
    "dicionariodelogs[0]"
   ]
  },
  {
   "cell_type": "code",
   "execution_count": 19,
   "metadata": {},
   "outputs": [],
   "source": [
    "#Função para separa somente os logs de get\n",
    "def separa_logs_get(dicionario_logs):\n",
    "    logs_get = {}\n",
    "    for i in range(len(dicionario_logs)):\n",
    "        if 'GET' in dicionario_logs[i]['requisicao']:\n",
    "            logs_get[i] = dicionario_logs[i]\n",
    "    return logs_get\n",
    "\n",
    "#Função que separa os logs de post\n",
    "def separa_logs_post(dicionario_logs):\n",
    "    logs_post = {}\n",
    "    for i in range(len(dicionario_logs)):\n",
    "        if 'POST' in dicionario_logs[i]['requisicao']:\n",
    "            logs_post[i] = dicionario_logs[i]\n",
    "    return logs_post"
   ]
  },
  {
   "cell_type": "code",
   "execution_count": 20,
   "metadata": {},
   "outputs": [],
   "source": [
    "dicionariodelogs_get = separa_logs_get(dicionariodelogs)\n",
    "dicionariodelogs_post = separa_logs_post(dicionariodelogs)"
   ]
  }
 ],
 "metadata": {
  "kernelspec": {
   "display_name": "base",
   "language": "python",
   "name": "python3"
  },
  "language_info": {
   "codemirror_mode": {
    "name": "ipython",
    "version": 3
   },
   "file_extension": ".py",
   "mimetype": "text/x-python",
   "name": "python",
   "nbconvert_exporter": "python",
   "pygments_lexer": "ipython3",
   "version": "3.9.12"
  }
 },
 "nbformat": 4,
 "nbformat_minor": 2
}
