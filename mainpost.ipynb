{
 "cells": [
  {
   "cell_type": "markdown",
   "metadata": {},
   "source": [
    "# Avaliação Final Tecnologias Hacker - Análise de Logs Web"
   ]
  },
  {
   "cell_type": "markdown",
   "metadata": {},
   "source": [
    "## Objetivo\n",
    "O objetivo desse projeto é construir um código capaz de analisar se, de acordo com os logs, pode haver uma conexão suspeita no seu servidor web. Para isso, levamos em consideração que os logs disponibilizados estão em formato combined."
   ]
  },
  {
   "cell_type": "code",
   "execution_count": 1,
   "metadata": {},
   "outputs": [],
   "source": [
    "#bibliotecas\n",
    "import re"
   ]
  },
  {
   "cell_type": "markdown",
   "metadata": {},
   "source": [
    "## Pré Processamento"
   ]
  },
  {
   "cell_type": "code",
   "execution_count": 2,
   "metadata": {},
   "outputs": [],
   "source": [
    "#Função que le o arquivo e retorna uma lista com as linhas do arquivo\n",
    "def ler_arquivo(nome_arquivo):\n",
    "    try:\n",
    "        with open(nome_arquivo, 'r') as arquivo:\n",
    "            return arquivo.readlines()\n",
    "    except FileNotFoundError:\n",
    "        print(\"Arquivo não encontrado\")\n",
    "        return None"
   ]
  },
  {
   "cell_type": "code",
   "execution_count": 3,
   "metadata": {},
   "outputs": [
    {
     "data": {
      "text/plain": [
       "'207.46.13.104 - - [08/Jul/2019:09:07:18 +0200] \"GET /?_m=akcie&_c=3_rocnik_memorialu_romana_cunderlika HTTP/1.1\" 302 623 \"-\" \"Mozilla/5.0 (iPhone; CPU iPhone OS 7_0 like Mac OS X) AppleWebKit/537.51.1 (KHTML, like Gecko) Version/7.0 Mobile/11A465 Safari/9537.53 (compatible; bingbot/2.0; +http://www.bing.com/bingbot.htm)\"\\n'"
      ]
     },
     "execution_count": 3,
     "metadata": {},
     "output_type": "execute_result"
    }
   ],
   "source": [
    "lista_linhas_log = ler_arquivo('logs/access.log')\n",
    "lista_linhas_log[0]"
   ]
  },
  {
   "cell_type": "code",
   "execution_count": 4,
   "metadata": {},
   "outputs": [],
   "source": [
    "# Função de extração das informações\n",
    "def extrai_info_log(lista_linhas):\n",
    "    info_logs = {}\n",
    "    for i in range(len(lista_linhas)):\n",
    "        dic_log = {}\n",
    "        info = lista_linhas[i].split()\n",
    "        dic_log['ip'] = info[0]\n",
    "        dic_log['id_cliente'] = info[1]\n",
    "        dic_log['usuario'] = info[2]\n",
    "        dic_log['data'] = info[3].replace('[','')\n",
    "        dic_log['requisicao'] = info[5] + \" \" + info[6] + \" \" + info[7]\n",
    "        dic_log['status'] = info[8]\n",
    "        dic_log['bytes_resposta'] = info[9]\n",
    "        dic_log['referenciador'] = info[10]\n",
    "        dic_log['navegador'] = info[11].replace('\"','')\n",
    "\n",
    "        info_logs[i] = dic_log\n",
    "\n",
    "    return info_logs\n",
    "\n",
    "\n"
   ]
  },
  {
   "cell_type": "code",
   "execution_count": 5,
   "metadata": {},
   "outputs": [
    {
     "data": {
      "text/plain": [
       "{'ip': '207.46.13.104',\n",
       " 'id_cliente': '-',\n",
       " 'usuario': '-',\n",
       " 'data': '08/Jul/2019:09:07:18',\n",
       " 'requisicao': '\"GET /?_m=akcie&_c=3_rocnik_memorialu_romana_cunderlika HTTP/1.1\"',\n",
       " 'status': '302',\n",
       " 'bytes_resposta': '623',\n",
       " 'referenciador': '\"-\"',\n",
       " 'navegador': 'Mozilla/5.0'}"
      ]
     },
     "execution_count": 5,
     "metadata": {},
     "output_type": "execute_result"
    }
   ],
   "source": [
    "dicionariodelogs = extrai_info_log(lista_linhas_log)\n",
    "dicionariodelogs[0]"
   ]
  },
  {
   "cell_type": "code",
   "execution_count": 6,
   "metadata": {},
   "outputs": [],
   "source": [
    "#Função para separa somente os logs de get\n",
    "def separa_logs_get(dicionario_logs):\n",
    "    logs_get = {}\n",
    "    for i in range(len(dicionario_logs)):\n",
    "        if 'GET' in dicionario_logs[i]['requisicao']:\n",
    "            logs_get[i] = dicionario_logs[i]\n",
    "    return logs_get\n",
    "\n",
    "#Função que separa os logs de post\n",
    "def separa_logs_post(dicionario_logs):\n",
    "    logs_post = {}\n",
    "    for i in range(len(dicionario_logs)):\n",
    "        if 'POST' in dicionario_logs[i]['requisicao']:\n",
    "            logs_post[i] = dicionario_logs[i]\n",
    "    return logs_post"
   ]
  },
  {
   "cell_type": "code",
   "execution_count": 7,
   "metadata": {},
   "outputs": [],
   "source": [
    "dicionariodelogs_get = separa_logs_get(dicionariodelogs)\n",
    "dicionariodelogs_post = separa_logs_post(dicionariodelogs)"
   ]
  },
  {
   "cell_type": "markdown",
   "metadata": {},
   "source": [
    "### Analisando os logs contendo POST\n"
   ]
  },
  {
   "cell_type": "markdown",
   "metadata": {},
   "source": [
    "**coisas suspeitas com POST**:\n",
    "- post em caminhos suspeitos (/wp-login.php, /xmlrpc.php, ou APIs internas)\n",
    "\n",
    "- muitas requisições em um curto intervalo\n",
    "\n",
    "- sql injection (' OR '1'='1, UNION SELECT, ou DROP TABLE.)\n",
    "\n",
    "- tentativas de login/senhas diferentes: ataque brute force (não sei se o gpt colocou mas eh sobre)\n",
    "\n",
    "- tentativa de enviar dados com script (script, onload=, ou eval( em campos de texto (indício de XSS)))\n",
    "\n",
    "- requisições com corpo muito maior que o esperado\n",
    "\n",
    "- headers http incomuns (X-Forwarded-For alterado ou user-agent indicando automação)\n",
    "\n",
    "- Arquivos com extensões como .php, .exe, .jsp, ou .sh\n",
    "\n",
    "- Detecção de endpoints que deveriam ser privados, mas estão sendo acessados publicamente\n",
    "\n",
    "- Dados contendo comandos como ; ls, && whoami, ou | netstat."
   ]
  },
  {
   "cell_type": "code",
   "execution_count": null,
   "metadata": {},
   "outputs": [],
   "source": [
    "def caminhos_suspeitos(log_post):\n",
    "    logs_suspeitos = {}\n",
    "    padroes_suspeitos = [\n",
    "        # WordPress e CMS\n",
    "        'wp-login', 'wp-admin', 'xmlrpc.php', 'admin-ajax.php', \n",
    "        'wp-content', 'wp-content/plugins/', 'wp-includes/', 'wp-config.php', 'wp-json/',\n",
    "        # Painéis de Administração\n",
    "        '/admin', '/administrator', '/console', '/controlpanel', '/login',\n",
    "        '/dashboard', '/dbadmin', '/config', '/config.php', '/admin.php',\n",
    "        # Arquivos de Configuração e Backup\n",
    "        '.env', 'config.php', 'settings.php', 'backup.sql', 'db_backup.sql',\n",
    "        'db_dump.sql', '.htaccess', '.htpasswd',\n",
    "        # Caminhos Sensíveis ou de Sistema\n",
    "        '/etc/passwd', '/etc/shadow', '/proc/self/environ', '/var/www/html',\n",
    "        # APIs Vulneráveis\n",
    "        '/api/v1/', '/graphql', '/admin/api/',\n",
    "        # Exploração de Ferramentas e Bibliotecas\n",
    "        '/phpmyadmin', '/server-status', '/actuator/health',\n",
    "        # Frameworks e Ferramentas\n",
    "        '/debug', '/shell', '/cmd',\n",
    "        # Padrões de Ataques\n",
    "        '?file=', '?path=', '?cmd=', '?exec=', '?debug=', '?action=',\n",
    "        # Explorações de Vulnerabilidades\n",
    "        'cgi-bin/', 'shell.php', 'eval-stdin.php',\n",
    "        # Padrões Genéricos de Exploração\n",
    "        '../', '.php', '.sh', '.exe'\n",
    "    ]\n",
    "\n",
    "    for key, value in log_post.items():\n",
    "        for padrao in padroes_suspeitos:\n",
    "            if padrao in value['requisicao']:\n",
    "                logs_suspeitos[key] = value\n",
    "                break \n",
    "    return logs_suspeitos\n"
   ]
  },
  {
   "cell_type": "code",
   "execution_count": 17,
   "metadata": {},
   "outputs": [],
   "source": [
    "logs_post_caminhos_suspeitos = caminhos_suspeitos(dicionariodelogs_post)\n",
    "#logs_post_caminhos_suspeitos"
   ]
  },
  {
   "cell_type": "code",
   "execution_count": 18,
   "metadata": {},
   "outputs": [],
   "source": [
    "def checando_sql_injection(logs_post):\n",
    "    logs_suspeitos = {}\n",
    "    padroes_suspeitos = [\n",
    "        'select', 'union', 'insert', 'update', 'delete', 'drop', 'alter', 'create',\n",
    "        'truncate', 'exec', 'grant', 'revoke',\n",
    "        \"' or '1'='1\", \"--\", \"#\", \";\", \"/*\", \"*/\",\n",
    "        \"char(\", \"concat(\", \"load_file(\", \"sleep(\",\n",
    "        \"information_schema\", \"table_schema\", \"column_name\",\n",
    "        \"'=\", \"like '%'\", \"and 1=1\"\n",
    "    ]\n",
    "    \n",
    "    for key, value in logs_post.items():\n",
    "        for padrao in padroes_suspeitos:\n",
    "            if padrao in value['requisicao'].lower():\n",
    "                logs_suspeitos[key] = value\n",
    "                break \n",
    "    return logs_suspeitos"
   ]
  },
  {
   "cell_type": "code",
   "execution_count": 19,
   "metadata": {},
   "outputs": [],
   "source": [
    "logs_sql_injection = checando_sql_injection(dicionariodelogs_post)\n",
    "#logs_sql_injection"
   ]
  },
  {
   "cell_type": "code",
   "execution_count": 20,
   "metadata": {},
   "outputs": [],
   "source": [
    "def enviar_dados_script(logs_post):\n",
    "    logs_suspeitos = {}\n",
    "    padroes_suspeitos = [\n",
    "        '<script>', 'onload=', 'eval(', \n",
    "        '<iframe>', 'javascript:', '<embed>', '<object>', '<applet>',\n",
    "        'onclick=', 'onmouseover=', 'onerror=',\n",
    "        '%3Cscript%3E', '%3Ciframe%3E',\n",
    "        'alert(', 'document.cookie', 'window.location', 'innerHTML',\n",
    "        '\"></script>', '<img src=\"x\" onerror=', '\"><svg onload=',\n",
    "        '{{7*7}}', '${7*7}', \n",
    "        'base64', '\\\\u'\n",
    "    ]\n",
    "\n",
    "    for key, value in logs_post.items():\n",
    "        for padrao in padroes_suspeitos:\n",
    "            if padrao in value['requisicao'].lower():\n",
    "                logs_suspeitos[key] = value\n",
    "                break\n",
    "    return logs_suspeitos\n",
    "    "
   ]
  },
  {
   "cell_type": "code",
   "execution_count": 22,
   "metadata": {},
   "outputs": [],
   "source": [
    "logs_dados_script = enviar_dados_script(dicionariodelogs_post)\n",
    "#logs_dados_script"
   ]
  }
 ],
 "metadata": {
  "kernelspec": {
   "display_name": "base",
   "language": "python",
   "name": "python3"
  },
  "language_info": {
   "codemirror_mode": {
    "name": "ipython",
    "version": 3
   },
   "file_extension": ".py",
   "mimetype": "text/x-python",
   "name": "python",
   "nbconvert_exporter": "python",
   "pygments_lexer": "ipython3",
   "version": "3.9.12"
  }
 },
 "nbformat": 4,
 "nbformat_minor": 2
}
